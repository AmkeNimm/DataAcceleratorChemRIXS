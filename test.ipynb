{
 "cells": [
  {
   "cell_type": "code",
   "execution_count": null,
   "metadata": {},
   "outputs": [],
   "source": []
  },
  {
   "cell_type": "code",
   "execution_count": 2,
   "metadata": {},
   "outputs": [],
   "source": [
    "import time\n",
    "import h5py\n",
    "import numpy as np\n",
    "import matplotlib.pyplot as plt\n",
    "import sys\n",
    "\n",
    "from loadDat import *\n",
    "from intg import *\n",
    "\n",
    "%matplotlib widget "
   ]
  },
  {
   "cell_type": "code",
   "execution_count": 5,
   "metadata": {},
   "outputs": [
    {
     "name": "stdout",
     "output_type": "stream",
     "text": [
      "<KeysViewHDF5 ['c_piranha_sum_full_area', 'count', 'crix_w8_sum_base_0', 'crix_w8_sum_base_1', 'crix_w8_sum_base_2', 'crix_w8_sum_base_3', 'crix_w8_sum_base_4', 'crix_w8_sum_base_5', 'crix_w8_sum_base_6', 'crix_w8_sum_base_7', 'crix_w8_sum_base_all', 'crix_w8_sum_integral_0', 'crix_w8_sum_integral_1', 'crix_w8_sum_integral_2', 'crix_w8_sum_integral_3', 'crix_w8_sum_integral_4', 'crix_w8_sum_integral_5', 'crix_w8_sum_integral_6', 'crix_w8_sum_integral_7', 'crix_w8_sum_integral_all', 'crix_w8_sum_intensity', 'crix_w8_sum_itrigCount', 'crix_w8_sum_posX', 'crix_w8_sum_posY', 'crix_w8_sum_ptrigCount', 'det_crix_w8_sum_full_area', 'det_crix_w8_sum_svdFit_ch0_coefficients', 'det_crix_w8_sum_svdFit_ch0_intensities', 'det_crix_w8_sum_svdFit_ch0_reconstructed', 'det_crix_w8_sum_svdFit_ch0_score', 'det_crix_w8_sum_svdFit_ch1_coefficients', 'det_crix_w8_sum_svdFit_ch1_intensities', 'det_crix_w8_sum_svdFit_ch1_reconstructed', 'det_crix_w8_sum_svdFit_ch1_score', 'det_crix_w8_sum_svdFit_ch2_coefficients', 'det_crix_w8_sum_svdFit_ch2_intensities', 'det_crix_w8_sum_svdFit_ch2_reconstructed', 'det_crix_w8_sum_svdFit_ch2_score', 'det_crix_w8_sum_svdFit_ch3_coefficients', 'det_crix_w8_sum_svdFit_ch3_intensities', 'det_crix_w8_sum_svdFit_ch3_reconstructed', 'det_crix_w8_sum_svdFit_ch3_score', 'det_crix_w8_sum_svdFit_ch4_coefficients', 'det_crix_w8_sum_svdFit_ch4_intensities', 'det_crix_w8_sum_svdFit_ch4_reconstructed', 'det_crix_w8_sum_svdFit_ch4_score', 'det_crix_w8_sum_svdFit_ch5_coefficients', 'det_crix_w8_sum_svdFit_ch5_intensities', 'det_crix_w8_sum_svdFit_ch5_reconstructed', 'det_crix_w8_sum_svdFit_ch5_score', 'det_crix_w8_sum_svdFit_ch6_coefficients', 'det_crix_w8_sum_svdFit_ch6_intensities', 'det_crix_w8_sum_svdFit_ch6_reconstructed', 'det_crix_w8_sum_svdFit_ch6_score', 'det_crix_w8_sum_svdFit_ch7_coefficients', 'det_crix_w8_sum_svdFit_ch7_intensities', 'det_crix_w8_sum_svdFit_ch7_reconstructed', 'det_crix_w8_sum_svdFit_ch7_score', 'det_crix_w8_sum_wfintegrate', 'det_rix_fim0_sum_full_area', 'det_rix_fim0_sum_svdFit_ch0_coefficients', 'det_rix_fim0_sum_svdFit_ch0_intensities', 'det_rix_fim0_sum_svdFit_ch0_reconstructed', 'det_rix_fim0_sum_svdFit_ch0_score', 'det_rix_fim0_sum_svdFit_ch1_coefficients', 'det_rix_fim0_sum_svdFit_ch1_intensities', 'det_rix_fim0_sum_svdFit_ch1_reconstructed', 'det_rix_fim0_sum_svdFit_ch1_score', 'det_rix_fim0_sum_svdFit_ch2_coefficients', 'det_rix_fim0_sum_svdFit_ch2_intensities', 'det_rix_fim0_sum_svdFit_ch2_reconstructed', 'det_rix_fim0_sum_svdFit_ch2_score', 'det_rix_fim0_sum_svdFit_ch3_coefficients', 'det_rix_fim0_sum_svdFit_ch3_intensities', 'det_rix_fim0_sum_svdFit_ch3_reconstructed', 'det_rix_fim0_sum_svdFit_ch3_score', 'det_rix_fim0_sum_svdFit_ch4_coefficients', 'det_rix_fim0_sum_svdFit_ch4_intensities', 'det_rix_fim0_sum_svdFit_ch4_reconstructed', 'det_rix_fim0_sum_svdFit_ch4_score', 'det_rix_fim0_sum_svdFit_ch5_coefficients', 'det_rix_fim0_sum_svdFit_ch5_intensities', 'det_rix_fim0_sum_svdFit_ch5_reconstructed', 'det_rix_fim0_sum_svdFit_ch5_score', 'det_rix_fim0_sum_svdFit_ch6_coefficients', 'det_rix_fim0_sum_svdFit_ch6_intensities', 'det_rix_fim0_sum_svdFit_ch6_reconstructed', 'det_rix_fim0_sum_svdFit_ch6_score', 'det_rix_fim0_sum_svdFit_ch7_coefficients', 'det_rix_fim0_sum_svdFit_ch7_intensities', 'det_rix_fim0_sum_svdFit_ch7_reconstructed', 'det_rix_fim0_sum_svdFit_ch7_score', 'det_rix_fim0_sum_wfintegrate', 'det_rix_fim1_sum_full_area', 'det_rix_fim1_sum_svdFit_ch0_coefficients', 'det_rix_fim1_sum_svdFit_ch0_intensities', 'det_rix_fim1_sum_svdFit_ch0_reconstructed', 'det_rix_fim1_sum_svdFit_ch0_score', 'det_rix_fim1_sum_svdFit_ch1_coefficients', 'det_rix_fim1_sum_svdFit_ch1_intensities', 'det_rix_fim1_sum_svdFit_ch1_reconstructed', 'det_rix_fim1_sum_svdFit_ch1_score', 'det_rix_fim1_sum_svdFit_ch2_coefficients', 'det_rix_fim1_sum_svdFit_ch2_intensities', 'det_rix_fim1_sum_svdFit_ch2_reconstructed', 'det_rix_fim1_sum_svdFit_ch2_score', 'det_rix_fim1_sum_svdFit_ch3_coefficients', 'det_rix_fim1_sum_svdFit_ch3_intensities', 'det_rix_fim1_sum_svdFit_ch3_reconstructed', 'det_rix_fim1_sum_svdFit_ch3_score', 'det_rix_fim1_sum_svdFit_ch4_coefficients', 'det_rix_fim1_sum_svdFit_ch4_intensities', 'det_rix_fim1_sum_svdFit_ch4_reconstructed', 'det_rix_fim1_sum_svdFit_ch4_score', 'det_rix_fim1_sum_svdFit_ch5_coefficients', 'det_rix_fim1_sum_svdFit_ch5_intensities', 'det_rix_fim1_sum_svdFit_ch5_reconstructed', 'det_rix_fim1_sum_svdFit_ch5_score', 'det_rix_fim1_sum_svdFit_ch6_coefficients', 'det_rix_fim1_sum_svdFit_ch6_intensities', 'det_rix_fim1_sum_svdFit_ch6_reconstructed', 'det_rix_fim1_sum_svdFit_ch6_score', 'det_rix_fim1_sum_svdFit_ch7_coefficients', 'det_rix_fim1_sum_svdFit_ch7_intensities', 'det_rix_fim1_sum_svdFit_ch7_reconstructed', 'det_rix_fim1_sum_svdFit_ch7_score', 'det_rix_fim1_sum_wfintegrate', 'full_area', 'lightStatus_sum_laser', 'lightStatus_sum_xray', 'mono_hrencoder_sum_value', 'rix_fim0_sum_base_0', 'rix_fim0_sum_base_1', 'rix_fim0_sum_base_2', 'rix_fim0_sum_base_3', 'rix_fim0_sum_base_4', 'rix_fim0_sum_base_5', 'rix_fim0_sum_base_6', 'rix_fim0_sum_base_7', 'rix_fim0_sum_base_all', 'rix_fim0_sum_integral_0', 'rix_fim0_sum_integral_1', 'rix_fim0_sum_integral_2', 'rix_fim0_sum_integral_3', 'rix_fim0_sum_integral_4', 'rix_fim0_sum_integral_5', 'rix_fim0_sum_integral_6', 'rix_fim0_sum_integral_7', 'rix_fim0_sum_integral_all', 'rix_fim0_sum_intensity', 'rix_fim0_sum_itrigCount', 'rix_fim0_sum_posX', 'rix_fim0_sum_posY', 'rix_fim0_sum_ptrigCount', 'rix_fim1_sum_base_0', 'rix_fim1_sum_base_1', 'rix_fim1_sum_base_2', 'rix_fim1_sum_base_3', 'rix_fim1_sum_base_4', 'rix_fim1_sum_base_5', 'rix_fim1_sum_base_6', 'rix_fim1_sum_base_7', 'rix_fim1_sum_base_all', 'rix_fim1_sum_integral_0', 'rix_fim1_sum_integral_1', 'rix_fim1_sum_integral_2', 'rix_fim1_sum_integral_3', 'rix_fim1_sum_integral_4', 'rix_fim1_sum_integral_5', 'rix_fim1_sum_integral_6', 'rix_fim1_sum_integral_7', 'rix_fim1_sum_integral_all', 'rix_fim1_sum_intensity', 'rix_fim1_sum_itrigCount', 'rix_fim1_sum_posX', 'rix_fim1_sum_posY', 'rix_fim1_sum_ptrigCount', 'scan_sum_mono_ev', 'scan_sum_mono_g_pi', 'scan_sum_step_value', 'timestamp_max', 'timestamp_min', 'timing_sum_destination', 'timing_sum_eventcodes', 'timing_sum_inhibitCounts', 'timing_sum_pulseId', 'timing_sum_timestamp']>\n"
     ]
    }
   ],
   "source": [
    "base_folder =  '/sdf/data/lcls/ds/rix/'\n",
    "run = 24\n",
    "\n",
    "exp = 'rix100836924'\n",
    "#79,81,82,83,85,94,95,96,98\n",
    "\n",
    "\n",
    "fname = f'{base_folder}/{exp}/hdf5/smalldata/{exp}_Run{run:04d}.h5'\n",
    "with h5py.File(fname, 'r') as fh:\n",
    "    data = SmallData(fh)\n",
    "    print(fh['intg']['andor_dir'].keys())"
   ]
  },
  {
   "cell_type": "code",
   "execution_count": 4,
   "metadata": {},
   "outputs": [
    {
     "data": {
      "text/plain": [
       "<KeysViewHDF5 ['andor_dir', 'andor_vls', 'axis_svls', 'timestamp']>"
      ]
     },
     "execution_count": 4,
     "metadata": {},
     "output_type": "execute_result"
    }
   ],
   "source": [
    "data.ssdat.keys()"
   ]
  },
  {
   "cell_type": "code",
   "execution_count": 20,
   "metadata": {},
   "outputs": [
    {
     "ename": "TypeError",
     "evalue": "'HDF5Handling' object is not subscriptable",
     "output_type": "error",
     "traceback": [
      "\u001b[31m---------------------------------------------------------------------------\u001b[39m",
      "\u001b[31mTypeError\u001b[39m                                 Traceback (most recent call last)",
      "\u001b[36mCell\u001b[39m\u001b[36m \u001b[39m\u001b[32mIn[20]\u001b[39m\u001b[32m, line 1\u001b[39m\n\u001b[32m----> \u001b[39m\u001b[32m1\u001b[39m \u001b[43mdata\u001b[49m\u001b[43m[\u001b[49m\u001b[33;43m'\u001b[39;49m\u001b[33;43mssdat\u001b[39;49m\u001b[33;43m'\u001b[39;49m\u001b[43m]\u001b[49m\n",
      "\u001b[31mTypeError\u001b[39m: 'HDF5Handling' object is not subscriptable"
     ]
    }
   ],
   "source": []
  },
  {
   "cell_type": "code",
   "execution_count": null,
   "metadata": {},
   "outputs": [],
   "source": [
    "(-379.324764244844+379.318518205709)*627.509"
   ]
  }
 ],
 "metadata": {
  "kernelspec": {
   "display_name": "dachemrixs",
   "language": "python",
   "name": "python3"
  },
  "language_info": {
   "codemirror_mode": {
    "name": "ipython",
    "version": 3
   },
   "file_extension": ".py",
   "mimetype": "text/x-python",
   "name": "python",
   "nbconvert_exporter": "python",
   "pygments_lexer": "ipython3",
   "version": "3.13.5"
  }
 },
 "nbformat": 4,
 "nbformat_minor": 2
}
