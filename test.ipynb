{
 "cells": [
  {
   "cell_type": "code",
   "execution_count": 1,
   "metadata": {},
   "outputs": [],
   "source": [
    "import time\n",
    "import h5py\n",
    "import numpy as np\n",
    "import matplotlib.pyplot as plt\n",
    "import sys\n",
    "\n",
    "from smallData import SmallData\n",
    "%matplotlib widget "
   ]
  },
  {
   "cell_type": "code",
   "execution_count": 2,
   "metadata": {},
   "outputs": [],
   "source": [
    "base_folder =  '/sdf/data/lcls/ds/rix/'\n",
    "run = 76\n",
    "\n",
    "exp = 'rix100836924'\n",
    "#79,81,82,83,85,94,95,96,98\n",
    "\n",
    "\n",
    "\n",
    "fname = f'/sdf/data/lcls/ds/rix/rix100836924/scratch/h5/rix100836924_Run{run:04d}.h5'\n",
    "#fname = f'{base_folder}/{exp}/hdf5/smalldata/{exp}_Run{run:04d}.h5'\n",
    "with h5py.File(fname, 'r') as fh:\n",
    "    data = SmallData(fh)"
   ]
  },
  {
   "cell_type": "code",
   "execution_count": 3,
   "metadata": {},
   "outputs": [
    {
     "name": "stdout",
     "output_type": "stream",
     "text": [
      "accessing intgrp\n",
      "initialising <HDF5 group \"/intg/andor_vls\" (88 members)>\n",
      "setting up properties\n",
      "initialising <HDF5 group \"/intg/axis_svls\" (92 members)>\n",
      "setting up properties\n"
     ]
    },
    {
     "data": {
      "text/plain": [
       "array([335, 336, 335, ..., 336, 336, 335])"
      ]
     },
     "execution_count": 3,
     "metadata": {},
     "output_type": "execute_result"
    }
   ],
   "source": [
    "data.integrating.andor_vls.count"
   ]
  },
  {
   "cell_type": "code",
   "execution_count": 4,
   "metadata": {},
   "outputs": [
    {
     "data": {
      "text/plain": [
       "array([[ 0.00000e+00,  0.00000e+00,  0.00000e+00, ...,  0.00000e+00,\n",
       "         0.00000e+00,  0.00000e+00],\n",
       "       [ 0.00000e+00, -8.78000e+02,  1.40000e+02, ...,  2.35600e+03,\n",
       "         1.91000e+02, -1.75000e+01],\n",
       "       [ 0.00000e+00, -3.24600e+03,  1.82600e+03, ...,  2.07175e+04,\n",
       "         9.30000e+01, -2.57500e+02],\n",
       "       ...,\n",
       "       [ 0.00000e+00, -1.60850e+03,  1.16450e+03, ...,  1.18295e+04,\n",
       "         5.61000e+02, -1.16000e+02],\n",
       "       [ 0.00000e+00, -1.74300e+03,  9.55500e+02, ...,  1.01010e+04,\n",
       "         5.59000e+02, -7.75000e+01],\n",
       "       [ 0.00000e+00, -1.74300e+03,  9.55500e+02, ...,  1.01010e+04,\n",
       "         5.59000e+02, -7.75000e+01]])"
      ]
     },
     "execution_count": 4,
     "metadata": {},
     "output_type": "execute_result"
    }
   ],
   "source": [
    "data.singleshot.fim0.preproc"
   ]
  },
  {
   "cell_type": "code",
   "execution_count": 2,
   "metadata": {},
   "outputs": [
    {
     "ename": "NameError",
     "evalue": "name 'h5py' is not defined",
     "output_type": "error",
     "traceback": [
      "\u001b[31m---------------------------------------------------------------------------\u001b[39m",
      "\u001b[31mNameError\u001b[39m                                 Traceback (most recent call last)",
      "\u001b[36mCell\u001b[39m\u001b[36m \u001b[39m\u001b[32mIn[2]\u001b[39m\u001b[32m, line 1\u001b[39m\n\u001b[32m----> \u001b[39m\u001b[32m1\u001b[39m dat=\u001b[43mh5py\u001b[49m.File(fname, \u001b[33m'\u001b[39m\u001b[33mr\u001b[39m\u001b[33m'\u001b[39m)\n",
      "\u001b[31mNameError\u001b[39m: name 'h5py' is not defined"
     ]
    }
   ],
   "source": [
    "dat=h5py.File(fname, 'r')"
   ]
  },
  {
   "cell_type": "code",
   "execution_count": 3,
   "metadata": {},
   "outputs": [
    {
     "ename": "NameError",
     "evalue": "name 'dat' is not defined",
     "output_type": "error",
     "traceback": [
      "\u001b[31m---------------------------------------------------------------------------\u001b[39m",
      "\u001b[31mNameError\u001b[39m                                 Traceback (most recent call last)",
      "\u001b[36mCell\u001b[39m\u001b[36m \u001b[39m\u001b[32mIn[3]\u001b[39m\u001b[32m, line 1\u001b[39m\n\u001b[32m----> \u001b[39m\u001b[32m1\u001b[39m \u001b[43mdat\u001b[49m[\u001b[33m'\u001b[39m\u001b[33mintg\u001b[39m\u001b[33m'\u001b[39m][\u001b[33m'\u001b[39m\u001b[33mandor_vls\u001b[39m\u001b[33m'\u001b[39m][\u001b[33m'\u001b[39m\u001b[33mtiming_sum_eventcodes\u001b[39m\u001b[33m'\u001b[39m]\n",
      "\u001b[31mNameError\u001b[39m: name 'dat' is not defined"
     ]
    }
   ],
   "source": [
    "dat['intg']['andor_vls']['timing_sum_eventcodes']"
   ]
  },
  {
   "cell_type": "code",
   "execution_count": 5,
   "metadata": {},
   "outputs": [
    {
     "name": "stdout",
     "output_type": "stream",
     "text": [
      "<KeysViewHDF5 ['Sums', 'UserDataCfg', 'c_piranha', 'crix_w8', 'det_crix_w8', 'det_rix_fim0', 'det_rix_fim1', 'epics_archiver', 'intg', 'lightStatus', 'mono_hrencoder', 'rix_fim0', 'rix_fim1', 'timestamp', 'timing']>\n"
     ]
    }
   ],
   "source": [
    "with h5py.File(fname) as h5f:\n",
    "    print(h5f.keys())"
   ]
  },
  {
   "cell_type": "code",
   "execution_count": 5,
   "metadata": {},
   "outputs": [],
   "source": [
    "andor_dir_dict = {\n",
    "    'count': 'count',\n",
    "    'full_area': 'full_area',\n",
    "    'eventcodes': 'timing_sum_eventcodes',\n",
    "    'apds': 'det_crix_w8_sum_full_area',\n",
    "    'fim_0': 'det_rix_fim0_sum_full_area',\n",
    "    'fim_1': 'det_rix_fim1_sum_full_area',\n",
    "    'mono_encoder': 'mono_hrencoder_sum_value',\n",
    "    'piranha': 'c_piranha_sum_full_area'}\n",
    "andor_vls_dict = andor_dir_dict # assuming both detectors have the same keys\n",
    "\n",
    "axis_svls_dict = andor_dir_dict # ass\n",
    "\n",
    "detectors = {'andor_dir': andor_dir_dict,\n",
    "        'andor_vls': andor_vls_dict,\n",
    "        'axis_svls': axis_svls_dict,\n",
    "        }"
   ]
  },
  {
   "cell_type": "code",
   "execution_count": 11,
   "metadata": {},
   "outputs": [
    {
     "data": {
      "text/plain": [
       "{'count': 'count',\n",
       " 'full_area': 'full_area',\n",
       " 'eventcodes': 'timing_sum_eventcodes',\n",
       " 'apds': 'det_crix_w8_sum_full_area',\n",
       " 'fim_0': 'det_rix_fim0_sum_full_area',\n",
       " 'fim_1': 'det_rix_fim1_sum_full_area',\n",
       " 'mono_encoder': 'mono_hrencoder_sum_value',\n",
       " 'piranha': 'c_piranha_sum_full_area'}"
      ]
     },
     "execution_count": 11,
     "metadata": {},
     "output_type": "execute_result"
    }
   ],
   "source": [
    "detectors['andor_dir']"
   ]
  },
  {
   "cell_type": "code",
   "execution_count": null,
   "metadata": {},
   "outputs": [],
   "source": []
  }
 ],
 "metadata": {
  "kernelspec": {
   "display_name": "dachemrixs",
   "language": "python",
   "name": "python3"
  },
  "language_info": {
   "codemirror_mode": {
    "name": "ipython",
    "version": 3
   },
   "file_extension": ".py",
   "mimetype": "text/x-python",
   "name": "python",
   "nbconvert_exporter": "python",
   "pygments_lexer": "ipython3",
   "version": "3.11.13"
  }
 },
 "nbformat": 4,
 "nbformat_minor": 2
}
